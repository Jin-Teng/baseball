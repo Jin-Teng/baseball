{
 "cells": [
  {
   "cell_type": "code",
   "execution_count": 5,
   "metadata": {
    "collapsed": true
   },
   "outputs": [],
   "source": [
    "def homerun():\n",
    "    x = input(\"請輸入網址\")\n",
    "    x_1 = str(x)\n",
    "    res = requests.get(x_1)\n",
    "    soup = BeautifulSoup(res.text, \"lxml\")\n",
    "\n",
    "    data = []\n",
    "    data0 = []\n",
    "    table = soup.find('table', attrs={'class':'stats_table'})\n",
    "    table_body = table.find('tbody')\n",
    "    k=[\"Age\",\"Tm\",\"Lg\",\"G\",\"PA\",\"AB\",\"R\",\"H\",\"2B\",\"3B\",\"HR\",\"RBI\",\"SB\",\"CS\",\"BB\",\"SO\",\"BA\",\"OBP\",\"SLG\",\"OPS\",\"OPS+\",\"TB\",\"GDP\",\"HBP\",\"SH\",\"SF\",\"IBB\",\"Pos\",\"Awards\"]\n",
    "\n",
    "    rows = table_body.find_all('tr')\n",
    "    for row in rows:\n",
    "        cols = row.find_all('td')\n",
    "        cols0 = row.find_all(\"th\")\n",
    "        cols = [ele.text.strip() for ele in cols]\n",
    "        data.append([ele for ele in cols if ele]) # Get rid of empty values\n",
    "        cols0 = [ele0.text.strip() for ele0 in cols0]\n",
    "        data0.append([ele0 for ele0 in cols0 if ele0]) # Get rid of empty values\n",
    "    \n",
    "    frame = pd.DataFrame(data,columns=k)\n",
    "    frame0 = pd.DataFrame(data0,columns=[\"year\"])\n",
    "\n",
    "    frame_all_1 = pd.concat([frame0, frame], axis=1)\n",
    "    print(frame_all_1)\n",
    "    return frame_all_1"
   ]
  },
  {
   "cell_type": "code",
   "execution_count": 9,
   "metadata": {
    "collapsed": true
   },
   "outputs": [],
   "source": [
    "import requests\n",
    "from bs4 import BeautifulSoup\n",
    "import pandas as pd\n",
    "import numpy as np    "
   ]
  },
  {
   "cell_type": "code",
   "execution_count": 6,
   "metadata": {
    "collapsed": true
   },
   "outputs": [],
   "source": [
    "def clean(x): \n",
    "    frame_all_X = x\n",
    "    frame_all_X = frame_all_X.drop([\"year\", \"Tm\", \"Lg\", \"CS\", \"GDP\", \"HBP\", \"SH\", \"SF\", \"IBB\", \"Pos\", \"Awards\",\"BA\",\"OBP\",\"SLG\", \"OPS\"], axis=1)\n",
    "    frame_all_X[\"Age\"] = frame_all_X[\"Age\"].astype(\"float\")\n",
    "    frame_all_X[\"G\"] = frame_all_X[\"G\"].astype(\"float\")\n",
    "    frame_all_X[\"PA\"] = frame_all_X[\"PA\"].astype(\"float\")\n",
    "    frame_all_X[\"AB\"] = frame_all_X[\"AB\"].astype(\"float\")\n",
    "    frame_all_X[\"R\"] = frame_all_X[\"R\"].astype(\"float\")\n",
    "    frame_all_X[\"H\"] = frame_all_X[\"H\"].astype(\"float\")\n",
    "    frame_all_X[\"3B\"] = frame_all_X[\"3B\"].astype(\"float\")\n",
    "    frame_all_X[\"2B\"] = frame_all_X[\"2B\"].astype(\"float\")\n",
    "    frame_all_X[\"RBI\"] = frame_all_X[\"RBI\"].astype(\"float\")\n",
    "    frame_all_X[\"SB\"] = frame_all_X[\"SB\"].astype(\"float\")\n",
    "    frame_all_X[\"BB\"] = frame_all_X[\"BB\"].astype(\"float\")\n",
    "    frame_all_X[\"SO\"] = frame_all_X[\"SO\"].astype(\"float\")\n",
    "    frame_all_X[\"TB\"] = frame_all_X[\"TB\"].astype(\"float\")\n",
    "    frame_all_X[\"OPS+\"] = frame_all_X[\"OPS+\"].astype(\"float\")\n",
    "    frame_all_X[\"HR\"] = frame_all_X[\"HR\"].astype(\"float\")#總共15個比較項目\n",
    "    return frame_all_X"
   ]
  },
  {
   "cell_type": "code",
   "execution_count": 7,
   "metadata": {
    "collapsed": true
   },
   "outputs": [],
   "source": [
    "def output_y(frame_all_X):    \n",
    "    frame_all_Y = frame_all_X[\"HR\"]#輸出\n",
    "    frame_all_Y = frame_all_Y.astype(\"float\")\n",
    "    return frame_all_Y"
   ]
  },
  {
   "cell_type": "code",
   "execution_count": null,
   "metadata": {
    "collapsed": true
   },
   "outputs": [],
   "source": [
    "#這邊之後就可以開始收集資料，名稱其實沒關係因為都重新開始爬所以不用接續之前都記錄"
   ]
  },
  {
   "cell_type": "code",
   "execution_count": 11,
   "metadata": {
    "collapsed": false
   },
   "outputs": [
    {
     "name": "stdout",
     "output_type": "stream",
     "text": [
      "請輸入網址http://www.baseball-reference.com/players/b/bondsba01.shtml\n",
      "    year Age       Tm   Lg    G   PA   AB    R    H  2B       ...        \\\n",
      "0   1985  20  PIT-min    A   71  296  254   49   76  16       ...         \n",
      "1   1986  21  PIT-min  AAA   44  186  148   30   46   7       ...         \n",
      "2   1986  21      PIT   NL  113  484  413   72   92  26       ...         \n",
      "3   1987  22      PIT   NL  150  611  551   99  144  34       ...         \n",
      "4   1988  23      PIT   NL  144  614  538   97  152  30       ...         \n",
      "5   1989  24      PIT   NL  159  679  580   96  144  34       ...         \n",
      "6   1990  25      PIT   NL  151  621  519  104  156  32       ...         \n",
      "7   1991  26      PIT   NL  153  634  510   95  149  28       ...         \n",
      "8   1992  27      PIT   NL  140  612  473  109  147  36       ...         \n",
      "9   1993  28      SFG   NL  159  674  539  129  181  38       ...         \n",
      "10  1994  29      SFG   NL  112  474  391   89  122  18       ...         \n",
      "11  1995  30      SFG   NL  144  635  506  109  149  30       ...         \n",
      "12  1996  31      SFG   NL  158  675  517  122  159  27       ...         \n",
      "13  1997  32      SFG   NL  159  690  532  123  155  26       ...         \n",
      "14  1998  33      SFG   NL  156  697  552  120  167  44       ...         \n",
      "15  1999  34      SFG   NL  102  434  355   91   93  20       ...         \n",
      "16  2000  35      SFG   NL  143  607  480  129  147  28       ...         \n",
      "17  2001  36      SFG   NL  153  664  476  129  156  32       ...         \n",
      "18  2002  37      SFG   NL  143  612  403  117  149  31       ...         \n",
      "19  2003  38      SFG   NL  130  550  390  111  133  22       ...         \n",
      "20  2004  39      SFG   NL  147  617  373  129  135  27       ...         \n",
      "21  2005  40      SFG   NL   14   52   42    8   12   1       ...         \n",
      "22  2006  41      SFG   NL  130  493  367   74   99  23       ...         \n",
      "23  2007  42      SFG   NL  126  477  340   75   94  14       ...         \n",
      "\n",
      "      OPS OPS+   TB GDP HBP SH          SF   IBB    Pos          Awards  \n",
      "0    .930  139    0   1   4  0  PRW · CARL  None   None            None  \n",
      "1    .963   78    2   0   3  0   HAW · PCL  None   None            None  \n",
      "2    .746  103  172   4   2  2           2     2     *8           RoY-6  \n",
      "3    .821  114  271   4   3  0           3     3  *78/9            None  \n",
      "4    .859  148  264   3   2  0           2    14   *7/8            None  \n",
      "5    .777  126  247   9   1  1           4    22     *7            None  \n",
      "6    .970  170  293   8   3  0           6    15   *7/8  AS,MVP-1,GG,SS  \n",
      "7    .924  160  262   8   4  0          13    25   *7/8     MVP-2,GG,SS  \n",
      "8   1.080  204  295   9   5  0           7    32     *7  AS,MVP-1,GG,SS  \n",
      "9   1.136  206  365  11   2  0           7    43     *7  AS,MVP-1,GG,SS  \n",
      "10  1.073  183  253   3   6  0           3    18     *7  AS,MVP-4,GG,SS  \n",
      "11  1.009  170  292  12   5  0           4    22     *7       AS,MVP-12  \n",
      "12  1.076  188  318  11   1  0           6    30   *7/8  AS,MVP-5,GG,SS  \n",
      "13  1.031  170  311  13   8  0           5    34     *7  AS,MVP-5,GG,SS  \n",
      "14  1.047  178  336  15   8  1           6    29     *7     AS,MVP-8,GG  \n",
      "15  1.006  156  219   6   3  0           3     9    7/D          MVP-24  \n",
      "16  1.127  188  330   6   3  0           7    22     *7     AS,MVP-2,SS  \n",
      "17  1.379  259  411   5   9  0           2    35   *7/D     AS,MVP-1,SS  \n",
      "18  1.381  268  322   4   9  0           2    68   *7/D     AS,MVP-1,SS  \n",
      "19  1.278  231  292   7  10  0           2    61   *7/D     AS,MVP-1,SS  \n",
      "20  1.422  263  303   5   9  0           3   120   *7/D     AS,MVP-1,SS  \n",
      "21  1.071  174   28   0   0  0           1     3      7            None  \n",
      "22   .999  156  200   9  10  0           1    38   *7/D            None  \n",
      "23  1.045  169  192  13   3  0           2    43   *7/D              AS  \n",
      "\n",
      "[24 rows x 30 columns]\n"
     ]
    }
   ],
   "source": [
    "Data_10 = homerun()"
   ]
  },
  {
   "cell_type": "code",
   "execution_count": 12,
   "metadata": {
    "collapsed": true
   },
   "outputs": [],
   "source": [
    "Data_10 = Data_10.drop([0,1], axis=0)\n",
    "X_10_origin = clean(Data_10) #floot\n",
    "Y_10_origin = output_y(X_10_origin)\n",
    "X_10_finish = X_10_origin.values\n",
    "num = Y_10_origin.count()\n",
    "x_10_train = X_10_finish[:10]#最後一個不要[0:10]\n",
    "x_10_test = X_10_finish[10:11]\n",
    "x_10_train_1 = X_10_finish[11:num-1]#[10:num-1]\n",
    "Y_10_finish = Y_10_origin.values\n",
    "y_10_train = Y_10_finish[1:11]#[1:11]\n",
    "y_10_test = Y_10_finish[11:12]\n",
    "y_10_train_1 = Y_10_finish[12:num]#最前一個不要，[11:num]\n",
    "#這個人有20年的資料所以我拆成兩筆10年匯入，這個是特殊案例要複製的話看下一筆"
   ]
  },
  {
   "cell_type": "code",
   "execution_count": 46,
   "metadata": {
    "collapsed": false
   },
   "outputs": [
    {
     "name": "stdout",
     "output_type": "stream",
     "text": [
      "請輸入網址http://www.baseball-reference.com/players/p/pujolal01.shtml\n",
      "    year Age       Tm        Lg    G   PA   AB    R    H  2B  \\\n",
      "0   2000  20  STL-min  A,A+,AAA  133  544  490   74  154  41   \n",
      "1   2001  21      STL        NL  161  676  590  112  194  47   \n",
      "2   2002  22      STL        NL  157  675  590  118  185  40   \n",
      "3   2003  23      STL        NL  157  685  591  137  212  51   \n",
      "4   2004  24      STL        NL  154  692  592  133  196  51   \n",
      "5   2005  25      STL        NL  161  700  591  129  195  38   \n",
      "6   2006  26      STL        NL  143  634  535  119  177  33   \n",
      "7   2007  27      STL        NL  158  679  565   99  185  38   \n",
      "8   2008  28      STL        NL  148  641  524  100  187  44   \n",
      "9   2009  29      STL        NL  160  700  568  124  186  45   \n",
      "10  2010  30      STL        NL  159  700  587  115  183  39   \n",
      "11  2011  31      STL        NL  147  651  579  105  173  29   \n",
      "12  2012  32      LAA        AL  154  670  607   85  173  50   \n",
      "13  2013  33      LAA        AL   99  443  391   49  101  19   \n",
      "14  2014  34      LAA        AL  159  695  633   89  172  37   \n",
      "15  2015  35      LAA        AL  157  661  602   85  147  22   \n",
      "16  2016  36      LAA        AL  152  650  593   71  159  19   \n",
      "17  2017  37      LAA        AL   54  230  214   18   52   6   \n",
      "\n",
      "          ...            OPS OPS+   TB GDP HBP SH SF  \\\n",
      "0         ...           .920  266   13   5   1  2  7   \n",
      "1         ...          1.013  157  360  21   9  1  7   \n",
      "2         ...           .955  151  331  20   9  0  4   \n",
      "3         ...          1.106  187  394  13  10  0  5   \n",
      "4         ...          1.072  173  389  21   7  0  9   \n",
      "5         ...          1.039  168  360  19   9  0  3   \n",
      "6         ...          1.102  178  359  20   4  0  3   \n",
      "7         ...           .997  157  321  27   7  0  8   \n",
      "8         ...          1.114  192  342  16   5  0  8   \n",
      "9         ...          1.101  189  374  23   9  0  8   \n",
      "10        ...          1.011  173  350  23   4  0  6   \n",
      "11        ...           .906  148  313  29   4  0  7   \n",
      "12        ...           .859  138  313  19   5  0  6   \n",
      "13        ...           .767  116  171  18   5  0  7   \n",
      "14        ...           .790  126  295  28   5  0  9   \n",
      "15        ...           .787  118  289  15   6  0  3   \n",
      "16        ...           .780  111  271  24   2  0  6   \n",
      "17        ...           .689   86   85   6   0  0  1   \n",
      "\n",
      "                            IBB       Pos             Awards  \n",
      "0   PEO,POT,MEM · MIDW,CARL,PCL      None               None  \n",
      "1                             6    5379/D  AS,MVP-4,RoY-1,SS  \n",
      "2                            13  *753/D96              MVP-2  \n",
      "3                            12     *73/D        AS,MVP-2,SS  \n",
      "4                            12      *3/D        AS,MVP-3,SS  \n",
      "5                            27        *3           AS,MVP-1  \n",
      "6                            28        *3        AS,MVP-2,GG  \n",
      "7                            22        *3           AS,MVP-9  \n",
      "8                            34     *3/D4        AS,MVP-1,SS  \n",
      "9                            44      *3/D        AS,MVP-1,SS  \n",
      "10                           38        *3     AS,MVP-2,GG,SS  \n",
      "11                           15      *3/5              MVP-5  \n",
      "12                           16     *3D/5             MVP-17  \n",
      "13                            8        D3               None  \n",
      "14                           11     *3D/5             MVP-17  \n",
      "15                           10      3D/5                 AS  \n",
      "16                            6       *D3               None  \n",
      "17                            3      *D/3               None  \n",
      "\n",
      "[18 rows x 30 columns]\n"
     ]
    }
   ],
   "source": [
    "Data_11 = homerun()"
   ]
  },
  {
   "cell_type": "code",
   "execution_count": 14,
   "metadata": {
    "collapsed": true
   },
   "outputs": [],
   "source": [
    "#0,17，把不要的資料記錄下來"
   ]
  },
  {
   "cell_type": "code",
   "execution_count": 47,
   "metadata": {
    "collapsed": true
   },
   "outputs": [],
   "source": [
    "Data_11 = Data_11.drop([0,17], axis=0)\n",
    "X_11_origin = clean(Data_11) #floot\n",
    "Y_11_origin = output_y(X_11_origin)\n",
    "X_11_finish = X_11_origin.values\n",
    "num = Y_11_origin.count()\n",
    "x_11_train = X_11_finish[:10]#最後一個不要[0:10]\n",
    "x_11_test = X_11_finish[10:num-1]#[10:num-1]\n",
    "Y_11_finish = Y_11_origin.values\n",
    "y_11_train = Y_11_finish[1:11]#[1:11]\n",
    "y_11_test = Y_11_finish[11:num]#最前一個不要，[11:num]"
   ]
  },
  {
   "cell_type": "code",
   "execution_count": 48,
   "metadata": {
    "collapsed": true
   },
   "outputs": [],
   "source": [
    "#先把你爬完的資料合併起來\n",
    "x_train_notdone = np.concatenate((x_10_train, x_11_train,x_10_train_1))\n",
    "y_train_notdone = np.concatenate((y_10_train, y_11_train, y_10_train_1))\n",
    "x_test_notdone = np.concatenate((x_10_test, x_11_test))\n",
    "y_test_notdone = np.concatenate((y_10_test, y_11_test))"
   ]
  },
  {
   "cell_type": "code",
   "execution_count": 50,
   "metadata": {
    "collapsed": true
   },
   "outputs": [],
   "source": [
    "#讀進原先的資料，準備把這次的資料加進去做更新\n",
    "X_train = np.loadtxt('x_train.csv', delimiter=',')\n",
    "X_test = np.loadtxt('x_test.csv', delimiter=',')\n",
    "Y_train = np.loadtxt('y_train.csv', delimiter=',')\n",
    "Y_test = np.loadtxt('y_test.csv', delimiter=',')"
   ]
  },
  {
   "cell_type": "code",
   "execution_count": 51,
   "metadata": {
    "collapsed": false
   },
   "outputs": [],
   "source": [
    "#把這次的資料合併進去\n",
    "x_train = np.concatenate((X_train, x_train_notdone))\n",
    "y_train = np.concatenate((Y_train, y_train_notdone))\n",
    "x_test = np.concatenate((X_test, x_test_notdone))\n",
    "y_test = np.concatenate((Y_test, y_test_notdone))"
   ]
  },
  {
   "cell_type": "code",
   "execution_count": 52,
   "metadata": {
    "collapsed": true
   },
   "outputs": [],
   "source": [
    "#存擋，記得上傳更新，也要檢查資料有沒有缺漏，有的話就在上去抓一次，如果上傳有錯的資料就麻煩了><\n",
    "np.savetxt('x_train.csv', x_train, delimiter=',')\n",
    "np.savetxt('x_test.csv', x_test, delimiter=',')\n",
    "np.savetxt('y_train.csv', y_train, delimiter=',')\n",
    "np.savetxt('y_test.csv', y_test, delimiter=',')"
   ]
  },
  {
   "cell_type": "code",
   "execution_count": 56,
   "metadata": {
    "collapsed": false
   },
   "outputs": [
    {
     "data": {
      "text/plain": [
       "44"
      ]
     },
     "execution_count": 56,
     "metadata": {},
     "output_type": "execute_result"
    }
   ],
   "source": [
    "len(y_test)"
   ]
  },
  {
   "cell_type": "code",
   "execution_count": null,
   "metadata": {
    "collapsed": true
   },
   "outputs": [],
   "source": []
  }
 ],
 "metadata": {
  "kernelspec": {
   "display_name": "Python 3",
   "language": "python",
   "name": "python3"
  },
  "language_info": {
   "codemirror_mode": {
    "name": "ipython",
    "version": 3
   },
   "file_extension": ".py",
   "mimetype": "text/x-python",
   "name": "python",
   "nbconvert_exporter": "python",
   "pygments_lexer": "ipython3",
   "version": "3.6.0"
  }
 },
 "nbformat": 4,
 "nbformat_minor": 2
}
